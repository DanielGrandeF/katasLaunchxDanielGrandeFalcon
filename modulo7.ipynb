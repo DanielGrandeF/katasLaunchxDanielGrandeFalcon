{
 "cells": [
  {
   "cell_type": "markdown",
   "metadata": {},
   "source": [
    "#### Solucion 1"
   ]
  },
  {
   "cell_type": "code",
   "execution_count": 18,
   "metadata": {},
   "outputs": [],
   "source": [
    "new_planet = ''\n",
    "planets = ['Venus','marte','tierra','neptuno','urano','saturno']"
   ]
  },
  {
   "cell_type": "code",
   "execution_count": 17,
   "metadata": {},
   "outputs": [
    {
     "ename": "KeyboardInterrupt",
     "evalue": "",
     "output_type": "error",
     "traceback": [
      "\u001b[0;31m---------------------------------------------------------------------------\u001b[0m",
      "\u001b[0;31mKeyboardInterrupt\u001b[0m                         Traceback (most recent call last)",
      "\u001b[1;32m/Users/danny/Desktop/LAUNCHX DANIEL GRANDE/modulo7.ipynb Cell 3'\u001b[0m in \u001b[0;36m<module>\u001b[0;34m\u001b[0m\n\u001b[1;32m      <a href='vscode-notebook-cell:/Users/danny/Desktop/LAUNCHX%20DANIEL%20GRANDE/modulo7.ipynb#ch0000001?line=0'>1</a>\u001b[0m \u001b[39mwhile\u001b[39;00m new_planet\u001b[39m.\u001b[39mlower() \u001b[39m!=\u001b[39m\u001b[39m'\u001b[39m\u001b[39mdone\u001b[39m\u001b[39m'\u001b[39m:\n\u001b[1;32m      <a href='vscode-notebook-cell:/Users/danny/Desktop/LAUNCHX%20DANIEL%20GRANDE/modulo7.ipynb#ch0000001?line=1'>2</a>\u001b[0m     \u001b[39mif\u001b[39;00m new_planet:\n\u001b[0;32m----> <a href='vscode-notebook-cell:/Users/danny/Desktop/LAUNCHX%20DANIEL%20GRANDE/modulo7.ipynb#ch0000001?line=2'>3</a>\u001b[0m       planets\u001b[39m.\u001b[39;49mappend(new_planet)\n\u001b[1;32m      <a href='vscode-notebook-cell:/Users/danny/Desktop/LAUNCHX%20DANIEL%20GRANDE/modulo7.ipynb#ch0000001?line=3'>4</a>\u001b[0m new_planet \u001b[39m=\u001b[39m \u001b[39minput\u001b[39m(\u001b[39m'\u001b[39m\u001b[39mIngresa nuevo planeta\u001b[39m\u001b[39m'\u001b[39m)\n",
      "\u001b[0;31mKeyboardInterrupt\u001b[0m: "
     ]
    }
   ],
   "source": [
    "while new_planet.lower() !='done':\n",
    "    if new_planet:\n",
    "      planets.append(new_planet)\n",
    "new_planet = input('Ingresa nuevo planeta')\n"
   ]
  },
  {
   "cell_type": "markdown",
   "metadata": {},
   "source": [
    "## Atorado =("
   ]
  },
  {
   "cell_type": "markdown",
   "metadata": {},
   "source": [
    "#### Solucion 2"
   ]
  },
  {
   "cell_type": "code",
   "execution_count": 19,
   "metadata": {},
   "outputs": [
    {
     "name": "stdout",
     "output_type": "stream",
     "text": [
      "['Venus', 'marte', 'tierra', 'neptuno', 'urano', 'saturno']\n",
      "['Venus', 'marte', 'tierra', 'neptuno', 'urano', 'saturno']\n",
      "['Venus', 'marte', 'tierra', 'neptuno', 'urano', 'saturno']\n",
      "['Venus', 'marte', 'tierra', 'neptuno', 'urano', 'saturno']\n",
      "['Venus', 'marte', 'tierra', 'neptuno', 'urano', 'saturno']\n",
      "['Venus', 'marte', 'tierra', 'neptuno', 'urano', 'saturno']\n"
     ]
    }
   ],
   "source": [
    "for planet in planets:\n",
    "    print(planets)"
   ]
  }
 ],
 "metadata": {
  "interpreter": {
   "hash": "7e1998ff7f8aa20ada591c520b972326324e5ea05489af9e422744c7c09f6dad"
  },
  "kernelspec": {
   "display_name": "Python 3.10.2 64-bit",
   "language": "python",
   "name": "python3"
  },
  "language_info": {
   "codemirror_mode": {
    "name": "ipython",
    "version": 3
   },
   "file_extension": ".py",
   "mimetype": "text/x-python",
   "name": "python",
   "nbconvert_exporter": "python",
   "pygments_lexer": "ipython3",
   "version": "3.10.2"
  },
  "orig_nbformat": 4
 },
 "nbformat": 4,
 "nbformat_minor": 2
}
